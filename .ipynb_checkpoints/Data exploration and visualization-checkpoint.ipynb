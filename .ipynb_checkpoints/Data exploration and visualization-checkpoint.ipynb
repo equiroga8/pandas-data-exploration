{
 "cells": [
  {
   "cell_type": "markdown",
   "metadata": {},
   "source": [
    "In this workshop we are goin to work with the dataset of the UPM researchers and their publications. This dataset is composed by two files: a json and a csv. These files are an extended versión of the csv that we used in the web application workshops.\n",
    "\n",
    "Our goal is obtain as much information as we can from this dataset. We will achieve this in two ways: we will answer questions with numeric values (e.g. what is the average number publications of an UPM reaearcher? or, how many citations have the reseachers, suming all their publications?) or we will generate some charts to present information in a visual way (e.g. how is the relation between the publication year of a paper and its number of citations? or, how is the histogram of the number of publications by researcher?)"
   ]
  },
  {
   "cell_type": "code",
   "execution_count": 1,
   "metadata": {},
   "outputs": [],
   "source": [
    "import pandas as pd\n",
    "import matplotlib.pyplot as plt\n",
    "publications = pd.read_json(\"data/publications.json\")\n",
    "researchers = pd.read_csv(\"data/researchers.csv\")"
   ]
  },
  {
   "cell_type": "markdown",
   "metadata": {},
   "source": [
    "# Dataset exploration\n",
    "Any project related with data analysis starts with a study of the data itself: \n",
    "* What kind of data do we have?\n",
    "* How is it organized? How many columns have each dataframe?\n",
    "* Are there wrong or missing values?\n",
    "* What does each value of a column means? How many different values are in each column?\n",
    "\n",
    "With the examples we saw in the previous workshop try to answer that questions."
   ]
  },
  {
   "cell_type": "code",
   "execution_count": 2,
   "metadata": {},
   "outputs": [
    {
     "data": {
      "text/plain": [
       "pages           object\n",
       "authors         object\n",
       "title           object\n",
       "document_id     object\n",
       "date            object\n",
       "journal         object\n",
       "openaccess        bool\n",
       "cited_count    float64\n",
       "type            object\n",
       "dtype: object"
      ]
     },
     "execution_count": 2,
     "metadata": {},
     "output_type": "execute_result"
    }
   ],
   "source": [
    "researchers.name.describe()\n",
    "publications.dtypes"
   ]
  },
  {
   "cell_type": "markdown",
   "metadata": {},
   "source": [
    "# Data cleaning\n",
    "After a first view of the data and before to start working with it, we must clean it. This proccess is called preprocessing and it is crucial to be able to obtain good results. We will discard invalid data, fill missing values, drop redundant information, etc. We need to create a dataset with the following restrictions.\n",
    "* All reserachers should have name, last_name and auth_id. All publications should have title, journal and document_id. Drop the rows that do not match this condition (check https://pandas.pydata.org/pandas-docs/stable/reference/api/pandas.DataFrame.dropna.html)\n",
    "* There are no duplicated publications (same title) or researchers (same name and lastname). To find duplicates check https://pandas.pydata.org/pandas-docs/stable/reference/api/pandas.DataFrame.drop_duplicates.html\n",
    "* All numeric fields must be an integer number bigger or equal to 0. Replace missing values with 0, round decimal values"
   ]
  },
  {
   "cell_type": "code",
   "execution_count": 3,
   "metadata": {},
   "outputs": [
    {
     "data": {
      "text/html": [
       "<div>\n",
       "<style scoped>\n",
       "    .dataframe tbody tr th:only-of-type {\n",
       "        vertical-align: middle;\n",
       "    }\n",
       "\n",
       "    .dataframe tbody tr th {\n",
       "        vertical-align: top;\n",
       "    }\n",
       "\n",
       "    .dataframe thead th {\n",
       "        text-align: right;\n",
       "    }\n",
       "</style>\n",
       "<table border=\"1\" class=\"dataframe\">\n",
       "  <thead>\n",
       "    <tr style=\"text-align: right;\">\n",
       "      <th></th>\n",
       "      <th>pages</th>\n",
       "      <th>authors</th>\n",
       "      <th>title</th>\n",
       "      <th>document_id</th>\n",
       "      <th>date</th>\n",
       "      <th>journal</th>\n",
       "      <th>openaccess</th>\n",
       "      <th>cited_count</th>\n",
       "      <th>type</th>\n",
       "    </tr>\n",
       "  </thead>\n",
       "  <tbody>\n",
       "    <tr>\n",
       "      <td>0</td>\n",
       "      <td>664-678</td>\n",
       "      <td>[57204955584, 57200520067, 24922369500, 244382...</td>\n",
       "      <td>High-Efficiency High-Bandwidth Four-Quadrant F...</td>\n",
       "      <td>85058136304</td>\n",
       "      <td>2019-06-01</td>\n",
       "      <td>IEEE Journal of Emerging and Selected Topics i...</td>\n",
       "      <td>False</td>\n",
       "      <td>0.0</td>\n",
       "      <td>Article</td>\n",
       "    </tr>\n",
       "    <tr>\n",
       "      <td>1</td>\n",
       "      <td>6356-6363</td>\n",
       "      <td>[7005227142, 57200519327, 57200511770, 2443825...</td>\n",
       "      <td>Energy-Buffered Single-Phase Inverter Operatin...</td>\n",
       "      <td>85060314395</td>\n",
       "      <td>2018-12-03</td>\n",
       "      <td>2018 IEEE Energy Conversion Congress and Expos...</td>\n",
       "      <td>False</td>\n",
       "      <td>2.0</td>\n",
       "      <td>Conference Paper</td>\n",
       "    </tr>\n",
       "    <tr>\n",
       "      <td>2</td>\n",
       "      <td>1293-1300</td>\n",
       "      <td>[57200511770, 57200519327, 56249124100, 244382...</td>\n",
       "      <td>ZVS transitions in Multi-Mode Single Stage Inv...</td>\n",
       "      <td>85060302761</td>\n",
       "      <td>2018-12-03</td>\n",
       "      <td>2018 IEEE Energy Conversion Congress and Expos...</td>\n",
       "      <td>False</td>\n",
       "      <td>1.0</td>\n",
       "      <td>Conference Paper</td>\n",
       "    </tr>\n",
       "    <tr>\n",
       "      <td>3</td>\n",
       "      <td>7375-7379</td>\n",
       "      <td>[57195619519, 57204116610, 24438258500, 700522...</td>\n",
       "      <td>Equivalent Parameters of Round and Litz Wire C...</td>\n",
       "      <td>85060302746</td>\n",
       "      <td>2018-12-03</td>\n",
       "      <td>2018 IEEE Energy Conversion Congress and Expos...</td>\n",
       "      <td>False</td>\n",
       "      <td>0.0</td>\n",
       "      <td>Conference Paper</td>\n",
       "    </tr>\n",
       "    <tr>\n",
       "      <td>4</td>\n",
       "      <td>4934-4939</td>\n",
       "      <td>[57200519327, 57200511770, 24438258500, 562491...</td>\n",
       "      <td>Digital Variable Frequency Control of a Single...</td>\n",
       "      <td>85060299891</td>\n",
       "      <td>2018-12-03</td>\n",
       "      <td>2018 IEEE Energy Conversion Congress and Expos...</td>\n",
       "      <td>False</td>\n",
       "      <td>1.0</td>\n",
       "      <td>Conference Paper</td>\n",
       "    </tr>\n",
       "    <tr>\n",
       "      <td>...</td>\n",
       "      <td>...</td>\n",
       "      <td>...</td>\n",
       "      <td>...</td>\n",
       "      <td>...</td>\n",
       "      <td>...</td>\n",
       "      <td>...</td>\n",
       "      <td>...</td>\n",
       "      <td>...</td>\n",
       "      <td>...</td>\n",
       "    </tr>\n",
       "    <tr>\n",
       "      <td>35959</td>\n",
       "      <td>None</td>\n",
       "      <td>[57191585506, 57195954471, 57195321188, 571921...</td>\n",
       "      <td>Nuclear data sensitivity and uncertainty asses...</td>\n",
       "      <td>85030469540</td>\n",
       "      <td>2017-09-13</td>\n",
       "      <td>EPJ Web of Conferences</td>\n",
       "      <td>True</td>\n",
       "      <td>0.0</td>\n",
       "      <td>Conference Paper</td>\n",
       "    </tr>\n",
       "    <tr>\n",
       "      <td>35960</td>\n",
       "      <td>75-87</td>\n",
       "      <td>[57195323836, 57195323776, 57195321188, 571900...</td>\n",
       "      <td>Predictive value of serum infliximab levels at...</td>\n",
       "      <td>85027118255</td>\n",
       "      <td>2017-06-01</td>\n",
       "      <td>Open Rheumatology Journal</td>\n",
       "      <td>True</td>\n",
       "      <td>3.0</td>\n",
       "      <td>Article</td>\n",
       "    </tr>\n",
       "    <tr>\n",
       "      <td>35961</td>\n",
       "      <td>144-153</td>\n",
       "      <td>[57206889833, 57195310042]</td>\n",
       "      <td>The [textile] materiality of jorn utzon's encl...</td>\n",
       "      <td>85062100903</td>\n",
       "      <td>2018-11-01</td>\n",
       "      <td>Rita Revista Indexada de Textos Academicos</td>\n",
       "      <td>True</td>\n",
       "      <td>0.0</td>\n",
       "      <td>Article</td>\n",
       "    </tr>\n",
       "    <tr>\n",
       "      <td>35962</td>\n",
       "      <td>98-105</td>\n",
       "      <td>[57195305282, 57195310042]</td>\n",
       "      <td>Ernesto N. Rogers and the preesistenza ambient...</td>\n",
       "      <td>85026897732</td>\n",
       "      <td>2015-04-01</td>\n",
       "      <td>Rita Revista Indexada de Textos Academicos</td>\n",
       "      <td>True</td>\n",
       "      <td>0.0</td>\n",
       "      <td>Article</td>\n",
       "    </tr>\n",
       "    <tr>\n",
       "      <td>35963</td>\n",
       "      <td>210-215</td>\n",
       "      <td>[57195294323, 56452824600, 57195291602, 572015...</td>\n",
       "      <td>Milano, città d' arte: Urban residents prefere...</td>\n",
       "      <td>85026803380</td>\n",
       "      <td>2017-06-29</td>\n",
       "      <td>2017 4th International Conference on eDemocrac...</td>\n",
       "      <td>False</td>\n",
       "      <td>0.0</td>\n",
       "      <td>Conference Paper</td>\n",
       "    </tr>\n",
       "  </tbody>\n",
       "</table>\n",
       "<p>35757 rows × 9 columns</p>\n",
       "</div>"
      ],
      "text/plain": [
       "           pages                                            authors  \\\n",
       "0        664-678  [57204955584, 57200520067, 24922369500, 244382...   \n",
       "1      6356-6363  [7005227142, 57200519327, 57200511770, 2443825...   \n",
       "2      1293-1300  [57200511770, 57200519327, 56249124100, 244382...   \n",
       "3      7375-7379  [57195619519, 57204116610, 24438258500, 700522...   \n",
       "4      4934-4939  [57200519327, 57200511770, 24438258500, 562491...   \n",
       "...          ...                                                ...   \n",
       "35959       None  [57191585506, 57195954471, 57195321188, 571921...   \n",
       "35960      75-87  [57195323836, 57195323776, 57195321188, 571900...   \n",
       "35961    144-153                         [57206889833, 57195310042]   \n",
       "35962     98-105                         [57195305282, 57195310042]   \n",
       "35963    210-215  [57195294323, 56452824600, 57195291602, 572015...   \n",
       "\n",
       "                                                   title  document_id  \\\n",
       "0      High-Efficiency High-Bandwidth Four-Quadrant F...  85058136304   \n",
       "1      Energy-Buffered Single-Phase Inverter Operatin...  85060314395   \n",
       "2      ZVS transitions in Multi-Mode Single Stage Inv...  85060302761   \n",
       "3      Equivalent Parameters of Round and Litz Wire C...  85060302746   \n",
       "4      Digital Variable Frequency Control of a Single...  85060299891   \n",
       "...                                                  ...          ...   \n",
       "35959  Nuclear data sensitivity and uncertainty asses...  85030469540   \n",
       "35960  Predictive value of serum infliximab levels at...  85027118255   \n",
       "35961  The [textile] materiality of jorn utzon's encl...  85062100903   \n",
       "35962  Ernesto N. Rogers and the preesistenza ambient...  85026897732   \n",
       "35963  Milano, città d' arte: Urban residents prefere...  85026803380   \n",
       "\n",
       "             date                                            journal  \\\n",
       "0      2019-06-01  IEEE Journal of Emerging and Selected Topics i...   \n",
       "1      2018-12-03  2018 IEEE Energy Conversion Congress and Expos...   \n",
       "2      2018-12-03  2018 IEEE Energy Conversion Congress and Expos...   \n",
       "3      2018-12-03  2018 IEEE Energy Conversion Congress and Expos...   \n",
       "4      2018-12-03  2018 IEEE Energy Conversion Congress and Expos...   \n",
       "...           ...                                                ...   \n",
       "35959  2017-09-13                             EPJ Web of Conferences   \n",
       "35960  2017-06-01                          Open Rheumatology Journal   \n",
       "35961  2018-11-01         Rita Revista Indexada de Textos Academicos   \n",
       "35962  2015-04-01         Rita Revista Indexada de Textos Academicos   \n",
       "35963  2017-06-29  2017 4th International Conference on eDemocrac...   \n",
       "\n",
       "       openaccess  cited_count              type  \n",
       "0           False          0.0           Article  \n",
       "1           False          2.0  Conference Paper  \n",
       "2           False          1.0  Conference Paper  \n",
       "3           False          0.0  Conference Paper  \n",
       "4           False          1.0  Conference Paper  \n",
       "...           ...          ...               ...  \n",
       "35959        True          0.0  Conference Paper  \n",
       "35960        True          3.0           Article  \n",
       "35961        True          0.0           Article  \n",
       "35962        True          0.0           Article  \n",
       "35963       False          0.0  Conference Paper  \n",
       "\n",
       "[35757 rows x 9 columns]"
      ]
     },
     "execution_count": 3,
     "metadata": {},
     "output_type": "execute_result"
    }
   ],
   "source": [
    "import numpy as np\n",
    "\n",
    "researchers = researchers.dropna(subset = [\"auth_id\", \"name\", \"last_name\", \"orcid\"])\n",
    "publications = publications.dropna(subset = [\"title\", \"journal\", \"document_id\"])\n",
    "\n",
    "\n",
    "researchers = researchers.drop_duplicates(subset=[\"name\", \"last_name\"], keep=\"first\")\n",
    "publications.drop_duplicates(subset=[\"title\"], keep=\"first\")\n",
    "\n",
    "\n",
    "researchers['citations'] = np.where(researchers['citations'] < 0, 0, researchers['citations'].apply(np.floor))\n",
    "researchers['cited_by'] = np.where(researchers['cited_by'] < 0, 0, researchers['cited_by'].apply(np.floor))\n",
    "researchers['publications'] = np.where(researchers['publications'] < 0, 0, researchers['publications'].apply(np.floor))\n",
    "\n",
    "publications['cited_count'] = np.where(publications['cited_count'] < 0, 0, publications['cited_count'].apply(np.floor))\n",
    "researchers\n",
    "publications"
   ]
  },
  {
   "cell_type": "markdown",
   "metadata": {},
   "source": [
    "Finally, to easy some calculations, lets convert the date column of the publications dataset to a datetime type"
   ]
  },
  {
   "cell_type": "code",
   "execution_count": 4,
   "metadata": {},
   "outputs": [],
   "source": [
    "publications.date = pd.to_datetime(publications.date, errors='coerce')\n",
    "publications = publications.dropna(subset = [\"date\"])"
   ]
  },
  {
   "cell_type": "markdown",
   "metadata": {},
   "source": [
    "# Data analytics\n",
    "\n",
    "Once we know about the data we are using and we have cleaned it, we need to ask what kind of useful information we can extract from that data. It is a good idea to make a kind of brainstorming of possible questions, then take the list of resulting questions and sort them by their difficulty, finally begin to answer them starting by the easiest ones.\n",
    "\n",
    "Yoy may need to use a joined dataset to answer some questions"
   ]
  },
  {
   "cell_type": "code",
   "execution_count": 5,
   "metadata": {},
   "outputs": [],
   "source": [
    "# This operation creates a dataset combining researchers and publications producing a dataset with one row for each\n",
    "# combination of researcher-publication in which the researcher is one of the authors of the publication\n",
    "data = researchers.merge(publications.rename(columns={\"authors\":\"auth_id\"}).explode(\"auth_id\"), on=\"auth_id\")"
   ]
  },
  {
   "cell_type": "markdown",
   "metadata": {},
   "source": [
    "## Basic results\n",
    "\n",
    "Some of the esaiest question or more basic results we can obtain are the following:\n",
    "* Numeric results\n",
    "    * How many researchers are?\n",
    "    * How many publications are?\n",
    "    * How many of journals are?\n",
    "    * How many types of publications are?\n",
    "    * How many publications of each type are?\n",
    "    * How many publications have each researcher in average? (Use only researchers dataset)\n",
    "    * Which is the oldest publication?\n",
    "    * Which is the publication with most citations?\n",
    "    * Who is the researcher with more publications? (Use only researchers dataset)\n",
    "* Graphic results\n",
    "    * Histogram of the number of publications per researcher\n",
    "    * Bar chart of the number of publications by type\n",
    "    * Line chart of the number of publications per year\n",
    "\n",
    "Som of those questions are just countings, sumations or rankings, but other need data aggregations with ``groupby``.\n",
    "\n",
    "**Answer each question in a different cell of this notebook (remember that you can insert new cell from the Insert menu).**"
   ]
  },
  {
   "cell_type": "code",
   "execution_count": 28,
   "metadata": {},
   "outputs": [
    {
     "data": {
      "text/plain": [
       "614"
      ]
     },
     "execution_count": 28,
     "metadata": {},
     "output_type": "execute_result"
    }
   ],
   "source": [
    "# How many researchers are there?\n",
    "researchers[\"auth_id\"].count()\n"
   ]
  },
  {
   "cell_type": "code",
   "execution_count": 32,
   "metadata": {},
   "outputs": [
    {
     "data": {
      "text/plain": [
       "35757"
      ]
     },
     "execution_count": 32,
     "metadata": {},
     "output_type": "execute_result"
    }
   ],
   "source": [
    "# How many publications are there?\n",
    "publications[\"title\"].count()"
   ]
  },
  {
   "cell_type": "code",
   "execution_count": 34,
   "metadata": {},
   "outputs": [
    {
     "data": {
      "text/plain": [
       "7898"
      ]
     },
     "execution_count": 34,
     "metadata": {},
     "output_type": "execute_result"
    }
   ],
   "source": [
    "# How many journals are there?\n",
    "publications[\"journal\"].nunique()"
   ]
  },
  {
   "cell_type": "code",
   "execution_count": 44,
   "metadata": {},
   "outputs": [
    {
     "data": {
      "text/plain": [
       "['Article',\n",
       " 'Conference Paper',\n",
       " 'Editorial',\n",
       " 'Erratum',\n",
       " 'Review',\n",
       " 'Chapter',\n",
       " 'Short Survey',\n",
       " 'Book',\n",
       " 'Article in Press',\n",
       " 'Note',\n",
       " 'Letter',\n",
       " None]"
      ]
     },
     "execution_count": 44,
     "metadata": {},
     "output_type": "execute_result"
    }
   ],
   "source": [
    "# How many types of publications are there?\n",
    "publications.type.unique().tolist()"
   ]
  },
  {
   "cell_type": "code",
   "execution_count": 87,
   "metadata": {},
   "outputs": [
    {
     "data": {
      "text/plain": [
       "type\n",
       "Article             21653\n",
       "Article in Press       88\n",
       "Book                   45\n",
       "Chapter               683\n",
       "Conference Paper    11690\n",
       "Editorial             458\n",
       "Erratum               110\n",
       "Letter                 74\n",
       "Note                  104\n",
       "Review                799\n",
       "Short Survey           32\n",
       "Name: type, dtype: int64"
      ]
     },
     "execution_count": 87,
     "metadata": {},
     "output_type": "execute_result"
    }
   ],
   "source": [
    "# How many publications of each type are there?\n",
    "publications.groupby([\"type\"])[\"type\"].count()"
   ]
  },
  {
   "cell_type": "code",
   "execution_count": 50,
   "metadata": {},
   "outputs": [
    {
     "data": {
      "text/plain": [
       "31.39804241435563"
      ]
     },
     "execution_count": 50,
     "metadata": {},
     "output_type": "execute_result"
    }
   ],
   "source": [
    "# How many publications do the researchers have in average? (Use only researchers dataset)\n",
    "researchers[\"publications\"].mean()\n",
    "\n",
    "\n"
   ]
  },
  {
   "cell_type": "code",
   "execution_count": 80,
   "metadata": {},
   "outputs": [
    {
     "data": {
      "text/html": [
       "<div>\n",
       "<style scoped>\n",
       "    .dataframe tbody tr th:only-of-type {\n",
       "        vertical-align: middle;\n",
       "    }\n",
       "\n",
       "    .dataframe tbody tr th {\n",
       "        vertical-align: top;\n",
       "    }\n",
       "\n",
       "    .dataframe thead th {\n",
       "        text-align: right;\n",
       "    }\n",
       "</style>\n",
       "<table border=\"1\" class=\"dataframe\">\n",
       "  <thead>\n",
       "    <tr style=\"text-align: right;\">\n",
       "      <th></th>\n",
       "      <th>pages</th>\n",
       "      <th>authors</th>\n",
       "      <th>title</th>\n",
       "      <th>document_id</th>\n",
       "      <th>date</th>\n",
       "      <th>journal</th>\n",
       "      <th>openaccess</th>\n",
       "      <th>cited_count</th>\n",
       "      <th>type</th>\n",
       "    </tr>\n",
       "  </thead>\n",
       "  <tbody>\n",
       "    <tr>\n",
       "      <td>33538</td>\n",
       "      <td>130-145</td>\n",
       "      <td>[24580537700, 6504371460, 55463179200]</td>\n",
       "      <td>Study of the impedance of a platinum electrode...</td>\n",
       "      <td>26744475991</td>\n",
       "      <td>1959-01-01</td>\n",
       "      <td>Electrochimica Acta</td>\n",
       "      <td>False</td>\n",
       "      <td>28.0</td>\n",
       "      <td>Article</td>\n",
       "    </tr>\n",
       "  </tbody>\n",
       "</table>\n",
       "</div>"
      ],
      "text/plain": [
       "         pages                                 authors  \\\n",
       "33538  130-145  [24580537700, 6504371460, 55463179200]   \n",
       "\n",
       "                                                   title  document_id  \\\n",
       "33538  Study of the impedance of a platinum electrode...  26744475991   \n",
       "\n",
       "            date              journal  openaccess  cited_count     type  \n",
       "33538 1959-01-01  Electrochimica Acta       False         28.0  Article  "
      ]
     },
     "execution_count": 80,
     "metadata": {},
     "output_type": "execute_result"
    }
   ],
   "source": [
    "# Which is the oldest publication?\n",
    "\n",
    "publications.loc[publications.date == publications.date.min()]\n"
   ]
  },
  {
   "cell_type": "code",
   "execution_count": 81,
   "metadata": {},
   "outputs": [
    {
     "data": {
      "text/html": [
       "<div>\n",
       "<style scoped>\n",
       "    .dataframe tbody tr th:only-of-type {\n",
       "        vertical-align: middle;\n",
       "    }\n",
       "\n",
       "    .dataframe tbody tr th {\n",
       "        vertical-align: top;\n",
       "    }\n",
       "\n",
       "    .dataframe thead th {\n",
       "        text-align: right;\n",
       "    }\n",
       "</style>\n",
       "<table border=\"1\" class=\"dataframe\">\n",
       "  <thead>\n",
       "    <tr style=\"text-align: right;\">\n",
       "      <th></th>\n",
       "      <th>pages</th>\n",
       "      <th>authors</th>\n",
       "      <th>title</th>\n",
       "      <th>document_id</th>\n",
       "      <th>date</th>\n",
       "      <th>journal</th>\n",
       "      <th>openaccess</th>\n",
       "      <th>cited_count</th>\n",
       "      <th>type</th>\n",
       "    </tr>\n",
       "  </thead>\n",
       "  <tbody>\n",
       "    <tr>\n",
       "      <td>2152</td>\n",
       "      <td>2507-2517</td>\n",
       "      <td>[6507925214, 6701794860, 7004720416]</td>\n",
       "      <td>A review of feature selection techniques in bi...</td>\n",
       "      <td>35748932917</td>\n",
       "      <td>2007-10-01</td>\n",
       "      <td>Bioinformatics</td>\n",
       "      <td>True</td>\n",
       "      <td>2406.0</td>\n",
       "      <td>Review</td>\n",
       "    </tr>\n",
       "  </tbody>\n",
       "</table>\n",
       "</div>"
      ],
      "text/plain": [
       "          pages                               authors  \\\n",
       "2152  2507-2517  [6507925214, 6701794860, 7004720416]   \n",
       "\n",
       "                                                  title  document_id  \\\n",
       "2152  A review of feature selection techniques in bi...  35748932917   \n",
       "\n",
       "           date         journal  openaccess  cited_count    type  \n",
       "2152 2007-10-01  Bioinformatics        True       2406.0  Review  "
      ]
     },
     "execution_count": 81,
     "metadata": {},
     "output_type": "execute_result"
    }
   ],
   "source": [
    "# Which is the publication with most citations?\n",
    "publications.loc[publications.cited_count == publications.cited_count.max()]\n"
   ]
  },
  {
   "cell_type": "code",
   "execution_count": 82,
   "metadata": {},
   "outputs": [
    {
     "data": {
      "text/html": [
       "<div>\n",
       "<style scoped>\n",
       "    .dataframe tbody tr th:only-of-type {\n",
       "        vertical-align: middle;\n",
       "    }\n",
       "\n",
       "    .dataframe tbody tr th {\n",
       "        vertical-align: top;\n",
       "    }\n",
       "\n",
       "    .dataframe thead th {\n",
       "        text-align: right;\n",
       "    }\n",
       "</style>\n",
       "<table border=\"1\" class=\"dataframe\">\n",
       "  <thead>\n",
       "    <tr style=\"text-align: right;\">\n",
       "      <th></th>\n",
       "      <th>Unnamed: 0</th>\n",
       "      <th>auth_id</th>\n",
       "      <th>name</th>\n",
       "      <th>last_name</th>\n",
       "      <th>citations</th>\n",
       "      <th>cited_by</th>\n",
       "      <th>publications</th>\n",
       "      <th>orcid</th>\n",
       "    </tr>\n",
       "  </thead>\n",
       "  <tbody>\n",
       "    <tr>\n",
       "      <td>4</td>\n",
       "      <td>4</td>\n",
       "      <td>8899577600</td>\n",
       "      <td>Javier</td>\n",
       "      <td>Bajo</td>\n",
       "      <td>2213.0</td>\n",
       "      <td>1376.0</td>\n",
       "      <td>271.0</td>\n",
       "      <td>0000-0003-0824-4133</td>\n",
       "    </tr>\n",
       "  </tbody>\n",
       "</table>\n",
       "</div>"
      ],
      "text/plain": [
       "   Unnamed: 0     auth_id    name last_name  citations  cited_by  \\\n",
       "4           4  8899577600  Javier      Bajo     2213.0    1376.0   \n",
       "\n",
       "   publications                orcid  \n",
       "4         271.0  0000-0003-0824-4133  "
      ]
     },
     "execution_count": 82,
     "metadata": {},
     "output_type": "execute_result"
    }
   ],
   "source": [
    "# Who is the researcher with more publications? (Use only researchers dataset)\n",
    "researchers.loc[researchers.publications == researchers.publications.max()]"
   ]
  },
  {
   "cell_type": "code",
   "execution_count": 86,
   "metadata": {},
   "outputs": [
    {
     "data": {
      "text/plain": [
       "<matplotlib.axes._subplots.AxesSubplot at 0x7f0c43dc4610>"
      ]
     },
     "execution_count": 86,
     "metadata": {},
     "output_type": "execute_result"
    },
    {
     "data": {
      "image/png": "[encoded data removed]",
      "text/plain": [
       "<Figure size 432x288 with 1 Axes>"
      ]
     },
     "metadata": {
      "needs_background": "light"
     },
     "output_type": "display_data"
    }
   ],
   "source": [
    "# Histogram of the number of publications per researcher ¿Esto no tiene sentido?\n",
    "researchers[\"publications\"].plot.hist()"
   ]
  },
  {
   "cell_type": "code",
   "execution_count": 89,
   "metadata": {},
   "outputs": [
    {
     "data": {
      "text/plain": [
       "<matplotlib.axes._subplots.AxesSubplot at 0x7f0c43e19210>"
      ]
     },
     "execution_count": 89,
     "metadata": {},
     "output_type": "execute_result"
    },
    {
     "data": {
      "image/png": "[encoded data removed]",
      "text/plain": [
       "<Figure size 432x288 with 1 Axes>"
      ]
     },
     "metadata": {
      "needs_background": "light"
     },
     "output_type": "display_data"
    }
   ],
   "source": [
    "# Bar chart of the number of publications by type\n",
    "publications.groupby([\"type\"])[\"type\"].count().plot.bar(x = 'type', y = 'count')"
   ]
  },
  {
   "cell_type": "code",
   "execution_count": 118,
   "metadata": {},
   "outputs": [
    {
     "data": {
      "text/plain": [
       "<matplotlib.axes._subplots.AxesSubplot at 0x7f0c3d6d24d0>"
      ]
     },
     "execution_count": 118,
     "metadata": {},
     "output_type": "execute_result"
    },
    {
     "data": {
      "image/png": "[encoded data removed]",
      "text/plain": [
       "<Figure size 432x288 with 1 Axes>"
      ]
     },
     "metadata": {
      "needs_background": "light"
     },
     "output_type": "display_data"
    }
   ],
   "source": [
    "# Line chart of the number of publications per year\n",
    "publications\n",
    "publications.groupby([\"date\"]).count().plot.line(y = 3)"
   ]
  },
  {
   "cell_type": "markdown",
   "metadata": {},
   "source": [
    "# Intermediate results\n",
    "\n",
    "* Numeric results\n",
    "    * How many publications of each researcher are in the data? Is this the same number than the column ``document-count``?\n",
    "    * How many authors have each publication? (show 5)\n",
    "    * What is the average number of authors in a publication?\n",
    "    * What is the average number of pages in a publication depending of the publication type?\n",
    "    * What is the average number of citations in a publication depending of the publication type?\n",
    "    * How many years each researcher have been active? (difference between the publciationDate of the oldest and newest publications)\n",
    "* Graphic results\n",
    "    * Histogram of the number of researchers by the number of active years\n",
    "    * Histogram of the number of authors in a publication\n",
    "    * Scatter plot of the publication year vs the number of citations\n",
    "    * Chart of the average number of citations depending on the publication type\n",
    "    * Chart of the average number of pages depending on the publication type\n",
    "\n",
    "**Choose 5 questions from the list and answer each in a different cell.**"
   ]
  },
  {
   "cell_type": "code",
   "execution_count": 18,
   "metadata": {},
   "outputs": [
    {
     "name": "stdout",
     "output_type": "stream",
     "text": [
      "5.262358371800252\n"
     ]
    }
   ],
   "source": [
    "# What is the average number of authors in a publication?\n",
    "mean = 0;\n",
    "for authorsList in publications.authors:\n",
    "    if authorsList is not None:\n",
    "        mean += len(authorsList)\n",
    "\n",
    "print(mean/len(publications.authors))"
   ]
  },
  {
   "cell_type": "code",
   "execution_count": 46,
   "metadata": {},
   "outputs": [
    {
     "data": {
      "image/png": "[encoded data removed]",
      "text/plain": [
       "<Figure size 1332x756 with 1 Axes>"
      ]
     },
     "metadata": {
      "needs_background": "light"
     },
     "output_type": "display_data"
    }
   ],
   "source": [
    "# Scatter plot of the publication year vs the number of citations\n",
    "grouped = publications.groupby([\"date\"]).count().reset_index()\n",
    "plt.scatter(grouped['date'], grouped['cited_count'], s=1)\n",
    "fig = plt.gcf()\n",
    "fig.set_size_inches(18.5, 10.5)\n"
   ]
  },
  {
   "cell_type": "code",
   "execution_count": 112,
   "metadata": {},
   "outputs": [
    {
     "data": {
      "text/html": [
       "<div>\n",
       "<style scoped>\n",
       "    .dataframe tbody tr th:only-of-type {\n",
       "        vertical-align: middle;\n",
       "    }\n",
       "\n",
       "    .dataframe tbody tr th {\n",
       "        vertical-align: top;\n",
       "    }\n",
       "\n",
       "    .dataframe thead th {\n",
       "        text-align: right;\n",
       "    }\n",
       "</style>\n",
       "<table border=\"1\" class=\"dataframe\">\n",
       "  <thead>\n",
       "    <tr style=\"text-align: right;\">\n",
       "      <th></th>\n",
       "      <th>id</th>\n",
       "      <th>time_active</th>\n",
       "    </tr>\n",
       "  </thead>\n",
       "  <tbody>\n",
       "    <tr>\n",
       "      <td>0</td>\n",
       "      <td>8899577600</td>\n",
       "      <td>14</td>\n",
       "    </tr>\n",
       "    <tr>\n",
       "      <td>1</td>\n",
       "      <td>7003699673</td>\n",
       "      <td>34</td>\n",
       "    </tr>\n",
       "    <tr>\n",
       "      <td>2</td>\n",
       "      <td>14010357000</td>\n",
       "      <td>19</td>\n",
       "    </tr>\n",
       "    <tr>\n",
       "      <td>3</td>\n",
       "      <td>7005864666</td>\n",
       "      <td>36</td>\n",
       "    </tr>\n",
       "    <tr>\n",
       "      <td>4</td>\n",
       "      <td>24722967900</td>\n",
       "      <td>31</td>\n",
       "    </tr>\n",
       "    <tr>\n",
       "      <td>...</td>\n",
       "      <td>...</td>\n",
       "      <td>...</td>\n",
       "    </tr>\n",
       "    <tr>\n",
       "      <td>602</td>\n",
       "      <td>55933105700</td>\n",
       "      <td>0</td>\n",
       "    </tr>\n",
       "    <tr>\n",
       "      <td>603</td>\n",
       "      <td>57205462726</td>\n",
       "      <td>0</td>\n",
       "    </tr>\n",
       "    <tr>\n",
       "      <td>604</td>\n",
       "      <td>34769551000</td>\n",
       "      <td>1</td>\n",
       "    </tr>\n",
       "    <tr>\n",
       "      <td>605</td>\n",
       "      <td>57170378400</td>\n",
       "      <td>0</td>\n",
       "    </tr>\n",
       "    <tr>\n",
       "      <td>606</td>\n",
       "      <td>35782062100</td>\n",
       "      <td>20</td>\n",
       "    </tr>\n",
       "  </tbody>\n",
       "</table>\n",
       "<p>607 rows × 2 columns</p>\n",
       "</div>"
      ],
      "text/plain": [
       "              id time_active\n",
       "0     8899577600          14\n",
       "1     7003699673          34\n",
       "2    14010357000          19\n",
       "3     7005864666          36\n",
       "4    24722967900          31\n",
       "..           ...         ...\n",
       "602  55933105700           0\n",
       "603  57205462726           0\n",
       "604  34769551000           1\n",
       "605  57170378400           0\n",
       "606  35782062100          20\n",
       "\n",
       "[607 rows x 2 columns]"
      ]
     },
     "execution_count": 112,
     "metadata": {},
     "output_type": "execute_result"
    }
   ],
   "source": [
    "# How many years each researcher have been active? \n",
    "# (difference between the publciationDate of the oldest and newest publications)\n",
    "\n",
    "newDf = pd.DataFrame(columns = ['id', 'time_active'])\n",
    "for rs in researchers.auth_id.unique():\n",
    "    rs_df = data[data['auth_id'] == rs]\n",
    "    if not rs_df.empty:\n",
    "        max_date = rs_df.loc[rs_df.date == rs_df.date.max()]['date'].dt.year.iloc[0]\n",
    "        min_date = rs_df.loc[rs_df.date == rs_df.date.min()]['date'].dt.year.iloc[0]\n",
    "        row = [rs, max_date - min_date]\n",
    "        newDf.loc[len(newDf)] = row\n",
    "newDf"
   ]
  },
  {
   "cell_type": "code",
   "execution_count": 70,
   "metadata": {},
   "outputs": [
    {
     "data": {
      "text/html": [
       "<div>\n",
       "<style scoped>\n",
       "    .dataframe tbody tr th:only-of-type {\n",
       "        vertical-align: middle;\n",
       "    }\n",
       "\n",
       "    .dataframe tbody tr th {\n",
       "        vertical-align: top;\n",
       "    }\n",
       "\n",
       "    .dataframe thead th {\n",
       "        text-align: right;\n",
       "    }\n",
       "</style>\n",
       "<table border=\"1\" class=\"dataframe\">\n",
       "  <thead>\n",
       "    <tr style=\"text-align: right;\">\n",
       "      <th></th>\n",
       "      <th>type</th>\n",
       "      <th>openaccess</th>\n",
       "      <th>cited_count</th>\n",
       "    </tr>\n",
       "  </thead>\n",
       "  <tbody>\n",
       "    <tr>\n",
       "      <td>0</td>\n",
       "      <td>Article</td>\n",
       "      <td>0.173001</td>\n",
       "      <td>17.434708</td>\n",
       "    </tr>\n",
       "    <tr>\n",
       "      <td>1</td>\n",
       "      <td>Article in Press</td>\n",
       "      <td>0.079545</td>\n",
       "      <td>0.636364</td>\n",
       "    </tr>\n",
       "    <tr>\n",
       "      <td>2</td>\n",
       "      <td>Book</td>\n",
       "      <td>0.044444</td>\n",
       "      <td>51.866667</td>\n",
       "    </tr>\n",
       "    <tr>\n",
       "      <td>3</td>\n",
       "      <td>Chapter</td>\n",
       "      <td>0.005857</td>\n",
       "      <td>2.951613</td>\n",
       "    </tr>\n",
       "    <tr>\n",
       "      <td>4</td>\n",
       "      <td>Conference Paper</td>\n",
       "      <td>0.044739</td>\n",
       "      <td>4.626914</td>\n",
       "    </tr>\n",
       "    <tr>\n",
       "      <td>5</td>\n",
       "      <td>Editorial</td>\n",
       "      <td>0.192140</td>\n",
       "      <td>1.423581</td>\n",
       "    </tr>\n",
       "    <tr>\n",
       "      <td>6</td>\n",
       "      <td>Erratum</td>\n",
       "      <td>0.518182</td>\n",
       "      <td>0.736364</td>\n",
       "    </tr>\n",
       "    <tr>\n",
       "      <td>7</td>\n",
       "      <td>Letter</td>\n",
       "      <td>0.202703</td>\n",
       "      <td>8.864865</td>\n",
       "    </tr>\n",
       "    <tr>\n",
       "      <td>8</td>\n",
       "      <td>Note</td>\n",
       "      <td>0.240385</td>\n",
       "      <td>5.096154</td>\n",
       "    </tr>\n",
       "    <tr>\n",
       "      <td>9</td>\n",
       "      <td>Review</td>\n",
       "      <td>0.222778</td>\n",
       "      <td>36.149123</td>\n",
       "    </tr>\n",
       "    <tr>\n",
       "      <td>10</td>\n",
       "      <td>Short Survey</td>\n",
       "      <td>0.343750</td>\n",
       "      <td>14.000000</td>\n",
       "    </tr>\n",
       "  </tbody>\n",
       "</table>\n",
       "</div>"
      ],
      "text/plain": [
       "                type  openaccess  cited_count\n",
       "0            Article    0.173001    17.434708\n",
       "1   Article in Press    0.079545     0.636364\n",
       "2               Book    0.044444    51.866667\n",
       "3            Chapter    0.005857     2.951613\n",
       "4   Conference Paper    0.044739     4.626914\n",
       "5          Editorial    0.192140     1.423581\n",
       "6            Erratum    0.518182     0.736364\n",
       "7             Letter    0.202703     8.864865\n",
       "8               Note    0.240385     5.096154\n",
       "9             Review    0.222778    36.149123\n",
       "10      Short Survey    0.343750    14.000000"
      ]
     },
     "execution_count": 70,
     "metadata": {},
     "output_type": "execute_result"
    }
   ],
   "source": [
    "# What is the average number of citations in a publication depending of the publication type?\n",
    "\n",
    "type_grouped = publications.groupby([\"type\"]).mean().reset_index()\n",
    "type_grouped"
   ]
  },
  {
   "cell_type": "code",
   "execution_count": null,
   "metadata": {},
   "outputs": [],
   "source": [
    "# Chart of the average number of citations depending on the publication type\n",
    "type_grouped.plot.bar(x='type', y='cited_count')"
   ]
  },
  {
   "cell_type": "markdown",
   "metadata": {},
   "source": [
    "## Advanced results\n",
    "\n",
    "The most difficult questions to answer usually are a small set which needs more explanation than a single line.\n",
    "\n",
    "* Coauthor: \n",
    "    One researcher is coatuhor with other if both appears as author in at least one publication. \n",
    "    * What is the average number of different coauthors of each researcher?\n",
    "    * How is the most frequent coauthor (their id) of each researcher?\n",
    "\n",
    "\n",
    "* H-index: \n",
    "    The h-index (https://en.wikipedia.org/wiki/H-index) is a metric that tries to describe the impact of a researcher based on the number of citations received in each publication. A researcher has a h-index of `n` if she has at least `n` publications with `n` or more citations.\n",
    "\n",
    "    * What is the h-index of each researcher?\n",
    "    * Chart of the publications and number of citations of a certain researcher, highlinting (in a different color) which publications contributed to the h-index\n",
    "\n",
    "![alt text](img/h-index.svg \"H-Index\")\n",
    "\n",
    "**Choose 1 group and solve it.**"
   ]
  },
  {
   "cell_type": "code",
   "execution_count": 80,
   "metadata": {},
   "outputs": [
    {
     "data": {
      "text/html": [
       "<div>\n",
       "<style scoped>\n",
       "    .dataframe tbody tr th:only-of-type {\n",
       "        vertical-align: middle;\n",
       "    }\n",
       "\n",
       "    .dataframe tbody tr th {\n",
       "        vertical-align: top;\n",
       "    }\n",
       "\n",
       "    .dataframe thead th {\n",
       "        text-align: right;\n",
       "    }\n",
       "</style>\n",
       "<table border=\"1\" class=\"dataframe\">\n",
       "  <thead>\n",
       "    <tr style=\"text-align: right;\">\n",
       "      <th></th>\n",
       "      <th>id</th>\n",
       "      <th>h_index</th>\n",
       "    </tr>\n",
       "  </thead>\n",
       "  <tbody>\n",
       "    <tr>\n",
       "      <td>0</td>\n",
       "      <td>8899577600</td>\n",
       "      <td>28</td>\n",
       "    </tr>\n",
       "    <tr>\n",
       "      <td>1</td>\n",
       "      <td>7003699673</td>\n",
       "      <td>24</td>\n",
       "    </tr>\n",
       "    <tr>\n",
       "      <td>2</td>\n",
       "      <td>14010357000</td>\n",
       "      <td>28</td>\n",
       "    </tr>\n",
       "    <tr>\n",
       "      <td>3</td>\n",
       "      <td>7005864666</td>\n",
       "      <td>26</td>\n",
       "    </tr>\n",
       "    <tr>\n",
       "      <td>4</td>\n",
       "      <td>24722967900</td>\n",
       "      <td>25</td>\n",
       "    </tr>\n",
       "    <tr>\n",
       "      <td>...</td>\n",
       "      <td>...</td>\n",
       "      <td>...</td>\n",
       "    </tr>\n",
       "    <tr>\n",
       "      <td>574</td>\n",
       "      <td>57195339292</td>\n",
       "      <td>0</td>\n",
       "    </tr>\n",
       "    <tr>\n",
       "      <td>575</td>\n",
       "      <td>55933105700</td>\n",
       "      <td>0</td>\n",
       "    </tr>\n",
       "    <tr>\n",
       "      <td>576</td>\n",
       "      <td>57205462726</td>\n",
       "      <td>0</td>\n",
       "    </tr>\n",
       "    <tr>\n",
       "      <td>577</td>\n",
       "      <td>34769551000</td>\n",
       "      <td>1</td>\n",
       "    </tr>\n",
       "    <tr>\n",
       "      <td>578</td>\n",
       "      <td>35782062100</td>\n",
       "      <td>11</td>\n",
       "    </tr>\n",
       "  </tbody>\n",
       "</table>\n",
       "<p>579 rows × 2 columns</p>\n",
       "</div>"
      ],
      "text/plain": [
       "              id h_index\n",
       "0     8899577600      28\n",
       "1     7003699673      24\n",
       "2    14010357000      28\n",
       "3     7005864666      26\n",
       "4    24722967900      25\n",
       "..           ...     ...\n",
       "574  57195339292       0\n",
       "575  55933105700       0\n",
       "576  57205462726       0\n",
       "577  34769551000       1\n",
       "578  35782062100      11\n",
       "\n",
       "[579 rows x 2 columns]"
      ]
     },
     "execution_count": 80,
     "metadata": {},
     "output_type": "execute_result"
    }
   ],
   "source": [
    "# H-index\n",
    "import bisect\n",
    "\n",
    "hdf = pd.DataFrame(columns = ['id', 'h_index'])\n",
    "\n",
    "for rs in researchers.auth_id.unique():\n",
    "    \n",
    "    is_rs = data['auth_id'] == rs\n",
    "    cit_list = []\n",
    "    \n",
    "    for cit_count in data[is_rs].cited_count:\n",
    "        bisect.insort(cit_list, cit_count)\n",
    "        \n",
    "    cit_list.reverse()\n",
    "    \n",
    "    for i in range(len(cit_list)):\n",
    "        if (cit_list[i] <= i):\n",
    "            row = [rs, i]\n",
    "            hdf.loc[len(hdf)] = row\n",
    "            break\n",
    "            \n",
    "hdf\n"
   ]
  },
  {
   "cell_type": "code",
   "execution_count": 85,
   "metadata": {},
   "outputs": [
    {
     "data": {
      "text/plain": [
       "<BarContainer object of 19 artists>"
      ]
     },
     "execution_count": 85,
     "metadata": {},
     "output_type": "execute_result"
    },
    {
     "data": {
      "image/png": "[encoded data removed]",
      "text/plain": [
       "<Figure size 432x288 with 1 Axes>"
      ]
     },
     "metadata": {
      "needs_background": "light"
     },
     "output_type": "display_data"
    }
   ],
   "source": [
    "researcher =35782062100\n",
    "\n",
    "res_df = data[data['auth_id'] == researcher]\n",
    "\n",
    "cit_list = []\n",
    "    \n",
    "for cit_count in res_df.cited_count:\n",
    "    bisect.insort(cit_list, cit_count)\n",
    "\n",
    "cit_list.reverse()\n",
    "h_index = 0\n",
    "\n",
    "for i in range(len(cit_list)):\n",
    "    if (cit_list[i] <= i):\n",
    "        h_index = i\n",
    "        break\n",
    "        \n",
    "\n",
    "mask1 = res_df.cited_count >= h_index\n",
    "mask2 = res_df.cited_count < h_index\n",
    "\n",
    "df1 = res_df[mask1]\n",
    "df2 = res_df[mask2]\n",
    "\n",
    "plt.xticks(rotation=90)\n",
    "plt.bar(df1['document_id'], df1['cited_count'], color='r')\n",
    "plt.bar(df2['document_id'], df2['cited_count'], color='b')"
   ]
  },
  {
   "cell_type": "code",
   "execution_count": null,
   "metadata": {},
   "outputs": [],
   "source": []
  }
 ],
 "metadata": {
  "kernelspec": {
   "display_name": "Python 3",
   "language": "python",
   "name": "python3"
  },
  "language_info": {
   "codemirror_mode": {
    "name": "ipython",
    "version": 3
   },
   "file_extension": ".py",
   "mimetype": "text/x-python",
   "name": "python",
   "nbconvert_exporter": "python",
   "pygments_lexer": "ipython3",
   "version": "3.7.4"
  }
 },
 "nbformat": 4,
 "nbformat_minor": 2
}
